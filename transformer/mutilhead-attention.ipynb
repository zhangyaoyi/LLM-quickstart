{
 "cells": [
  {
   "metadata": {
    "ExecuteTime": {
     "end_time": "2024-09-03T08:31:48.898970Z",
     "start_time": "2024-09-03T08:31:48.242496Z"
    }
   },
   "cell_type": "code",
   "source": [
    "import torch\n",
    "import torch.nn as nn\n",
    "import matplotlib.pyplot as plt"
   ],
   "id": "8211dcdebff544a7",
   "outputs": [],
   "execution_count": 1
  },
  {
   "metadata": {
    "collapsed": true
   },
   "cell_type": "code",
   "source": [
    "class MultiHeadAttention(nn.Module):\n",
    "    def __init__(self, embed_size, heads):\n",
    "        super(MultiHeadAttention, self).__init__()\n",
    "        self.embed_size = embed_size\n",
    "        self.heads = heads\n",
    "        self.head_dim = embed_size // heads\n",
    "\n",
    "        assert (self.head_dim * heads == embed_size), \"Embed size needs to be divisible by heads\"\n",
    "\n",
    "        self.W_V = nn. Linear(self.embed_size, self.embed_size, bias=False)\n",
    "        self.W_K = nn.Linear(self.embed_size, self.embed_size, bias=False)\n",
    "        self.W_Q = nn.Linear(self.embed_size, self.embed_size, bias=False)\n",
    "        self.fc_out = nn.Linear(heads * self.head_dim, embed_size)\n",
    "\n",
    "    def forward(self, values, keys, query, mask):\n",
    "        N = query.shape[0]\n",
    "        value_len, key_len, query_len = values.shape[1], keys.shape[1], query.shape[1]\n",
    "\n",
    "        # Split embedding into self.heads pieces\n",
    "        values = self.W_V(values).reshape(N, value_len, self.heads, self.head_dim)\n",
    "        keys = self.W_K(keys).reshape(N, key_len, self.heads, self.head_dim)\n",
    "        queries = self.W_Q(query).reshape(N, query_len, self.heads, self.head_dim)\n",
    "\n",
    "        energy = torch.einsum(\"nqhd,nkhd->nhqk\", [queries, keys])\n",
    "        if mask is not None:\n",
    "            energy = energy.masked_fill(mask == 0, float(\"-1e20\"))\n",
    "\n",
    "        attention = torch.softmax(energy / (self.embed_size ** (1/2)), dim=3)\n",
    "\n",
    "        out = torch.einsum(\"nhql,nlhd->nqhd\", [attention, values]).reshape(\n",
    "            N, query_len, self.heads * self.head_dim\n",
    "        )\n",
    "        out = self.fc_out(out)\n",
    "        return out, attention\n",
    "\n",
    "# 示例使用\n",
    "embed_size = 256\n",
    "heads = 8\n",
    "seq_length = 10\n",
    "batch_size = 1\n",
    "\n",
    "mha = MultiHeadAttention(embed_size, heads)\n",
    "x = torch.randn(batch_size, seq_length, embed_size)\n",
    "mask = torch.ones(batch_size, 1, seq_length, seq_length)\n",
    "\n",
    "output, attention = mha(x, x, x, mask)\n",
    "\n",
    "# 可视化不同头的注意力分布\n",
    "plt.figure(figsize=(15, 8))\n",
    "for i in range(heads):\n",
    "    plt.subplot(2, 4, i+1)\n",
    "    plt.imshow(attention[0, i].detach().numpy(), cmap='viridis')\n",
    "    plt.title(f'Head {i+1}')\n",
    "    plt.axis('off')\n",
    "plt.tight_layout()\n",
    "plt.show()"
   ],
   "id": "initial_id",
   "outputs": [],
   "execution_count": null
  },
  {
   "metadata": {
    "ExecuteTime": {
     "end_time": "2024-09-03T08:31:56.306927Z",
     "start_time": "2024-09-03T08:31:56.304740Z"
    }
   },
   "cell_type": "code",
   "source": [
    "embed_size = 256\n",
    "heads = 8\n",
    "seq_length = 10\n",
    "batch_size = 1"
   ],
   "id": "92b1efb44983c91f",
   "outputs": [],
   "execution_count": 2
  },
  {
   "metadata": {
    "ExecuteTime": {
     "end_time": "2024-09-03T08:33:22.017300Z",
     "start_time": "2024-09-03T08:33:22.014811Z"
    }
   },
   "cell_type": "code",
   "source": [
    "x = torch.randn(batch_size, seq_length, embed_size)\n",
    "print(x.shape[0])  # 1\n",
    "print(x.shape[1]) # 10\n",
    "print(x.shape[2]) # 256"
   ],
   "id": "10305c8467719747",
   "outputs": [
    {
     "name": "stdout",
     "output_type": "stream",
     "text": [
      "1\n",
      "10\n",
      "256\n"
     ]
    }
   ],
   "execution_count": 7
  },
  {
   "metadata": {},
   "cell_type": "code",
   "source": "torch.ones(batch_size, 1, seq_length, seq_length)",
   "id": "b1afc8df644137b0",
   "outputs": [],
   "execution_count": null
  },
  {
   "metadata": {
    "ExecuteTime": {
     "end_time": "2024-09-03T08:38:07.002549Z",
     "start_time": "2024-09-03T08:38:06.997645Z"
    }
   },
   "cell_type": "code",
   "source": [
    "W_V = nn.Linear(embed_size, embed_size, bias=False)\n",
    "v = W_V(x)\n",
    "print(v)\n",
    "v.reshape(x.shape[0], x.shape[1], heads, embed_size // heads)"
   ],
   "id": "a9fa7c23a1baf61c",
   "outputs": [
    {
     "name": "stdout",
     "output_type": "stream",
     "text": [
      "tensor([[[-0.0514,  0.5724,  0.7738,  ..., -0.6581,  1.0623, -0.5047],\n",
      "         [-0.1851, -0.7963, -0.1730,  ..., -0.1564,  0.1908,  1.0888],\n",
      "         [ 0.3316, -0.1187,  1.3206,  ..., -0.0506, -0.9239, -0.2433],\n",
      "         ...,\n",
      "         [ 0.7064, -0.4227,  0.4947,  ...,  0.0073, -0.2617, -0.2478],\n",
      "         [-0.5140,  0.2559, -0.2099,  ...,  0.3654, -1.2443, -0.0594],\n",
      "         [-0.3713, -0.0506,  0.5962,  ..., -0.8006,  0.2858, -0.4019]]],\n",
      "       grad_fn=<UnsafeViewBackward0>)\n"
     ]
    },
    {
     "data": {
      "text/plain": [
       "tensor([[[[-5.1351e-02,  5.7236e-01,  7.7379e-01,  ..., -4.7329e-01,\n",
       "           -3.5231e-01,  9.3953e-01],\n",
       "          [-7.2955e-02, -8.7796e-02, -7.3498e-01,  ...,  2.0978e-01,\n",
       "           -5.2034e-02,  5.1850e-01],\n",
       "          [ 4.2092e-01, -3.1959e-01, -1.4015e+00,  ...,  2.6888e-01,\n",
       "            9.2742e-01, -1.0992e+00],\n",
       "          ...,\n",
       "          [ 4.4064e-01,  1.9320e-01,  5.2276e-01,  ..., -6.8857e-01,\n",
       "           -1.1678e+00,  8.3032e-01],\n",
       "          [-2.5219e-01,  8.6043e-02, -1.7928e-01,  ..., -5.9504e-01,\n",
       "            2.6388e-01,  1.0667e+00],\n",
       "          [ 1.4543e-01, -7.2450e-01,  7.8694e-01,  ..., -6.5808e-01,\n",
       "            1.0623e+00, -5.0473e-01]],\n",
       "\n",
       "         [[-1.8512e-01, -7.9630e-01, -1.7301e-01,  ...,  2.7680e-01,\n",
       "           -6.6447e-01,  4.4468e-01],\n",
       "          [ 4.3197e-01, -5.0777e-01, -2.0941e-01,  ...,  1.4700e-01,\n",
       "            5.7759e-01, -4.4414e-01],\n",
       "          [ 1.1049e+00,  4.5713e-01, -1.1900e-03,  ..., -3.2168e-01,\n",
       "            1.1543e+00,  3.1784e-01],\n",
       "          ...,\n",
       "          [-1.8232e-02, -4.7426e-01, -1.1436e+00,  ...,  4.3813e-01,\n",
       "            1.8006e-01, -6.1109e-01],\n",
       "          [-1.7321e-01,  9.4854e-01, -2.2457e-01,  ...,  5.3614e-01,\n",
       "           -3.9109e-01,  3.3741e-01],\n",
       "          [-1.7561e+00,  1.9290e-01,  1.6178e-01,  ..., -1.5637e-01,\n",
       "            1.9078e-01,  1.0888e+00]],\n",
       "\n",
       "         [[ 3.3159e-01, -1.1874e-01,  1.3206e+00,  ...,  5.0997e-01,\n",
       "            2.7256e-01,  4.1726e-01],\n",
       "          [-1.9261e-01, -1.1977e-01, -9.5626e-01,  ..., -9.7640e-02,\n",
       "           -3.7306e-02, -1.4885e-01],\n",
       "          [-6.2038e-01,  5.4809e-01,  4.3137e-01,  ...,  6.1073e-01,\n",
       "            1.6344e-01,  2.6361e-01],\n",
       "          ...,\n",
       "          [-4.8904e-01,  6.7866e-01, -5.5104e-01,  ..., -6.3806e-01,\n",
       "            7.0247e-01, -1.0020e-01],\n",
       "          [-6.0919e-01,  2.5793e-01, -7.9512e-01,  ..., -1.7644e-01,\n",
       "           -3.9555e-01,  7.9564e-01],\n",
       "          [-1.5465e-01, -4.3327e-01, -3.8059e-01,  ..., -5.0633e-02,\n",
       "           -9.2393e-01, -2.4332e-01]],\n",
       "\n",
       "         ...,\n",
       "\n",
       "         [[ 7.0636e-01, -4.2272e-01,  4.9467e-01,  ..., -6.9584e-01,\n",
       "           -5.7479e-01,  2.8903e-01],\n",
       "          [ 5.9035e-01, -2.9987e-01, -4.4117e-01,  ..., -4.6681e-01,\n",
       "            7.9826e-03,  2.7697e-01],\n",
       "          [-7.1658e-01,  9.2213e-01,  1.6517e-01,  ...,  1.9076e-01,\n",
       "            2.0371e-01, -8.9567e-02],\n",
       "          ...,\n",
       "          [-9.7055e-01, -1.9025e-01, -2.8393e-01,  ...,  3.3078e-01,\n",
       "            1.2076e+00, -3.3194e-01],\n",
       "          [ 6.9391e-01,  6.3137e-01, -8.6340e-01,  ..., -7.3132e-01,\n",
       "            6.6943e-01,  5.8953e-01],\n",
       "          [-1.3001e-01,  1.3574e-01,  5.7010e-02,  ...,  7.2717e-03,\n",
       "           -2.6165e-01, -2.4785e-01]],\n",
       "\n",
       "         [[-5.1395e-01,  2.5585e-01, -2.0986e-01,  ...,  4.1235e-01,\n",
       "            1.2819e-01, -1.1114e-01],\n",
       "          [ 4.5526e-02, -3.6009e-01,  7.2295e-01,  ..., -1.1073e+00,\n",
       "           -3.9137e-01, -4.7756e-02],\n",
       "          [ 6.8840e-01,  1.1930e-01, -1.9471e-01,  ...,  1.7922e-01,\n",
       "            1.4527e-01, -8.9509e-02],\n",
       "          ...,\n",
       "          [ 6.3477e-01,  3.2100e-01, -7.1002e-01,  ..., -2.3597e-01,\n",
       "            1.7858e-01, -5.9263e-01],\n",
       "          [-7.7126e-01,  2.6891e-01,  3.8812e-01,  ..., -2.4186e-01,\n",
       "            1.4393e-01, -9.5844e-03],\n",
       "          [ 5.2637e-01, -8.6129e-01, -6.3235e-01,  ...,  3.6539e-01,\n",
       "           -1.2443e+00, -5.9378e-02]],\n",
       "\n",
       "         [[-3.7133e-01, -5.0551e-02,  5.9622e-01,  ...,  6.1994e-01,\n",
       "           -3.5797e-01, -1.1417e+00],\n",
       "          [-5.1044e-01, -7.1049e-01, -2.9878e-03,  ...,  2.1136e-01,\n",
       "           -1.5423e-01,  5.0320e-01],\n",
       "          [ 5.9012e-01, -3.0073e-02, -7.3475e-01,  ..., -1.0258e+00,\n",
       "           -8.2806e-01,  9.5781e-02],\n",
       "          ...,\n",
       "          [-2.8948e-01,  2.1683e-01,  2.6726e-01,  ..., -1.8908e-01,\n",
       "            1.8521e-03,  5.2261e-01],\n",
       "          [ 1.0214e+00,  4.4105e-01, -7.6553e-01,  ...,  2.4043e-01,\n",
       "           -1.6106e-01,  1.1614e+00],\n",
       "          [ 1.6440e-01,  7.6943e-01,  3.8083e-01,  ..., -8.0058e-01,\n",
       "            2.8576e-01, -4.0190e-01]]]], grad_fn=<ViewBackward0>)"
      ]
     },
     "execution_count": 10,
     "metadata": {},
     "output_type": "execute_result"
    }
   ],
   "execution_count": 10
  },
  {
   "metadata": {
    "ExecuteTime": {
     "end_time": "2024-09-03T09:24:47.709881Z",
     "start_time": "2024-09-03T09:24:47.706519Z"
    }
   },
   "cell_type": "code",
   "source": [
    "import torch \n",
    "import torch.nn as nn\n",
    "\n",
    "torch.manual_seed(0)\n",
    "\n",
    "linear = nn.Linear(5, 4)\n",
    "#linear.weight.data = torch.randn(4, 5)\n",
    "print(linear.weight.shape)\n",
    "print(linear.weight)\n",
    "\n",
    "x = torch.tensor([1.0, 2.0, -1.0, 0.0, 3.0])\n",
    "print(x.shape)\n",
    "print(linear(x))"
   ],
   "id": "417fdc24da27c516",
   "outputs": [
    {
     "name": "stdout",
     "output_type": "stream",
     "text": [
      "torch.Size([4, 5])\n",
      "Parameter containing:\n",
      "tensor([[-0.0033,  0.2399, -0.3681, -0.3291, -0.1722],\n",
      "        [ 0.1199, -0.0089,  0.3546, -0.0397,  0.1183],\n",
      "        [-0.1352, -0.0879, -0.4272, -0.2962, -0.1844],\n",
      "        [ 0.0166,  0.1768,  0.2683, -0.3032, -0.1947]], requires_grad=True)\n",
      "torch.Size([5])\n",
      "tensor([ 0.4902,  0.4740, -0.5288, -0.1478], grad_fn=<ViewBackward0>)\n"
     ]
    }
   ],
   "execution_count": 24
  },
  {
   "metadata": {},
   "cell_type": "code",
   "outputs": [],
   "execution_count": null,
   "source": "",
   "id": "60522bcf3ee01294"
  }
 ],
 "metadata": {
  "kernelspec": {
   "display_name": "Python 3",
   "language": "python",
   "name": "python3"
  },
  "language_info": {
   "codemirror_mode": {
    "name": "ipython",
    "version": 2
   },
   "file_extension": ".py",
   "mimetype": "text/x-python",
   "name": "python",
   "nbconvert_exporter": "python",
   "pygments_lexer": "ipython2",
   "version": "2.7.6"
  }
 },
 "nbformat": 4,
 "nbformat_minor": 5
}
