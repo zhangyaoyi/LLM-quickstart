{
 "cells": [
  {
   "cell_type": "code",
   "execution_count": null,
   "id": "initial_id",
   "metadata": {
    "collapsed": true
   },
   "outputs": [],
   "source": [
    "import torch\n",
    "import torch.nn as nn\n",
    "import matplotlib.pyplot as plt\n",
    "\n",
    "class MultiHeadAttention(nn.Module):\n",
    "    def __init__(self, embed_size, heads):\n",
    "        super(MultiHeadAttention, self).__init__()\n",
    "        self.embed_size = embed_size\n",
    "        self.heads = heads\n",
    "        self.head_dim = embed_size // heads\n",
    "\n",
    "        assert (self.head_dim * heads == embed_size), \"Embed size needs to be divisible by heads\"\n",
    "\n",
    "        self.W_V = nn.Linear(self.embed_size, self.embed_size, bias=False)\n",
    "        self.W_K = nn.Linear(self.embed_size, self.embed_size, bias=False)\n",
    "        self.W_Q = nn.Linear(self.embed_size, self.embed_size, bias=False)\n",
    "        self.fc_out = nn.Linear(heads * self.head_dim, embed_size)\n",
    "\n",
    "    def forward(self, values, keys, query, mask):\n",
    "        N = query.shape[0]\n",
    "        value_len, key_len, query_len = values.shape[1], keys.shape[1], query.shape[1]\n",
    "\n",
    "        # Split embedding into self.heads pieces\n",
    "        values = self.W_V(values).reshape(N, value_len, self.heads, self.head_dim)\n",
    "        keys = self.W_K(keys).reshape(N, key_len, self.heads, self.head_dim)\n",
    "        queries = self.W_Q(query).reshape(N, query_len, self.heads, self.head_dim)\n",
    "\n",
    "        energy = torch.einsum(\"nqhd,nkhd->nhqk\", [queries, keys])\n",
    "        if mask is not None:\n",
    "            energy = energy.masked_fill(mask == 0, float(\"-1e20\"))\n",
    "\n",
    "        attention = torch.softmax(energy / (self.embed_size ** (1/2)), dim=3)\n",
    "\n",
    "        out = torch.einsum(\"nhql,nlhd->nqhd\", [attention, values]).reshape(\n",
    "            N, query_len, self.heads * self.head_dim\n",
    "        )\n",
    "        out = self.fc_out(out)\n",
    "        return out, attention\n",
    "\n",
    "# 示例使用\n",
    "embed_size = 256\n",
    "heads = 8\n",
    "seq_length = 10\n",
    "batch_size = 1\n",
    "\n",
    "mha = MultiHeadAttention(embed_size, heads)\n",
    "x = torch.randn(batch_size, seq_length, embed_size)\n",
    "mask = torch.ones(batch_size, 1, seq_length, seq_length)\n",
    "\n",
    "output, attention = mha(x, x, x, mask)\n",
    "\n",
    "# 可视化不同头的注意力分布\n",
    "plt.figure(figsize=(15, 8))\n",
    "for i in range(heads):\n",
    "    plt.subplot(2, 4, i+1)\n",
    "    plt.imshow(attention[0, i].detach().numpy(), cmap='viridis')\n",
    "    plt.title(f'Head {i+1}')\n",
    "    plt.axis('off')\n",
    "plt.tight_layout()\n",
    "plt.show()"
   ]
  }
 ],
 "metadata": {
  "kernelspec": {
   "display_name": "Python 3",
   "language": "python",
   "name": "python3"
  },
  "language_info": {
   "codemirror_mode": {
    "name": "ipython",
    "version": 2
   },
   "file_extension": ".py",
   "mimetype": "text/x-python",
   "name": "python",
   "nbconvert_exporter": "python",
   "pygments_lexer": "ipython2",
   "version": "2.7.6"
  }
 },
 "nbformat": 4,
 "nbformat_minor": 5
}
